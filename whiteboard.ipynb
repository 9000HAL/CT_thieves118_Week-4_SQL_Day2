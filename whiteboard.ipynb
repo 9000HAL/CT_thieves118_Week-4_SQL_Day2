{
 "cells": [
  {
   "cell_type": "code",
   "execution_count": 2,
   "metadata": {},
   "outputs": [
    {
     "ename": "SyntaxError",
     "evalue": "unmatched ')' (1907227435.py, line 34)",
     "output_type": "error",
     "traceback": [
      "\u001b[0;36m  Cell \u001b[0;32mIn[2], line 34\u001b[0;36m\u001b[0m\n\u001b[0;31m    \"\"\"  )\u001b[0m\n\u001b[0m         ^\u001b[0m\n\u001b[0;31mSyntaxError\u001b[0m\u001b[0;31m:\u001b[0m unmatched ')'\n"
     ]
    }
   ],
   "source": [
    "\"\"\"   \n",
    "\n",
    "Make a program that filters a list of strings and returns a list with only your friends name in it.\n",
    "\n",
    "If a name has exactly 4 letters in it, you can be sure that it has to be a friend of yours! Otherwise, you can be sure he's not...\n",
    "\n",
    "Ex: Input = [\"Ryan\", \"Kieran\", \"Jason\", \"Yous\"], Output = [\"Ryan\", \"Yous\"]\n",
    "\n",
    "i.e.\n",
    "\n",
    "friend [\"Ryan\", \"Kieran\", \"Mark\"] `shouldBe` [\"Ryan\", \"Mark\"]\n",
    "Note: keep the original order of the names in the output.\n",
    "\n",
    "\n",
    "\"\"\"\n",
    "\n",
    "\n",
    "people = ['Paul', 'George', 'Ryan', 'Tom']\n",
    "\n",
    "      \n",
    "\"\"\"\n",
    "#1\n",
    "\n",
    "def find_friends(people):\n",
    "    friends = []\n",
    "    for friend in people:\n",
    "        if len(friend) == 4:\n",
    "            friends.append(friend)\n",
    "        \n",
    "\n",
    "print(find_friends(people))\n",
    "\n",
    "\n",
    "\"\"\"  )\n",
    "\n",
    "\n",
    "\n",
    "#2\n",
    "\n",
    "def filter_friends(friend):\n",
    "    if len(friend) == 4:\n",
    "        return True\n",
    "    else:\n",
    "        return False\n",
    "\n",
    "print(list(filter(filter_friends, people)))\n",
    "\n",
    "\n",
    "\n"
   ]
  }
 ],
 "metadata": {
  "kernelspec": {
   "display_name": "Python 3.10.10 64-bit",
   "language": "python",
   "name": "python3"
  },
  "language_info": {
   "codemirror_mode": {
    "name": "ipython",
    "version": 3
   },
   "file_extension": ".py",
   "mimetype": "text/x-python",
   "name": "python",
   "nbconvert_exporter": "python",
   "pygments_lexer": "ipython3",
   "version": "3.10.10"
  },
  "orig_nbformat": 4,
  "vscode": {
   "interpreter": {
    "hash": "aee8b7b246df8f9039afb4144a1f6fd8d2ca17a180786b69acc140d282b71a49"
   }
  }
 },
 "nbformat": 4,
 "nbformat_minor": 2
}
